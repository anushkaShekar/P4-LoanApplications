{
 "cells": [
  {
   "cell_type": "markdown",
   "id": "cb3a5384-d6ce-470c-abb0-00bbe2259a1b",
   "metadata": {},
   "source": [
    "# Part 1: Data Setup"
   ]
  },
  {
   "cell_type": "code",
   "execution_count": 1,
   "id": "21de2ddd-edc0-4970-8b63-075329933bb3",
   "metadata": {},
   "outputs": [
    {
     "name": "stderr",
     "output_type": "stream",
     "text": [
      "Using Spark's default log4j profile: org/apache/spark/log4j-defaults.properties\n",
      "Setting default log level to \"WARN\".\n",
      "To adjust logging level use sc.setLogLevel(newLevel). For SparkR, use setLogLevel(newLevel).\n",
      "23/04/04 04:32:50 WARN NativeCodeLoader: Unable to load native-hadoop library for your platform... using builtin-java classes where applicable\n"
     ]
    }
   ],
   "source": [
    "# Creating a Spark session\n",
    "from pyspark.sql import SparkSession\n",
    "spark = (SparkSession.builder.appName(\"cs544\")\n",
    "         .master(\"spark://main:7077\")\n",
    "         .config(\"spark.executor.memory\", \"512M\")\n",
    "         .config(\"spark.sql.warehouse.dir\", \"hdfs://main:9000/user/hive/warehouse\")\n",
    "         .enableHiveSupport()\n",
    "         .getOrCreate())"
   ]
  },
  {
   "cell_type": "code",
   "execution_count": 2,
   "id": "54ecdf3c-7579-4c0f-af36-c9d2a858614a",
   "metadata": {},
   "outputs": [
    {
     "name": "stdout",
     "output_type": "stream",
     "text": [
      "--2023-03-29 23:16:39--  https://pages.cs.wisc.edu/~harter/cs639/data/hdma-wi-2021.zip\n",
      "Resolving pages.cs.wisc.edu (pages.cs.wisc.edu)... 128.105.7.9\n",
      "Connecting to pages.cs.wisc.edu (pages.cs.wisc.edu)|128.105.7.9|:443... connected.\n",
      "HTTP request sent, awaiting response... 200 OK\n",
      "Length: 21494278 (20M) [application/zip]\n",
      "Saving to: ‘hdma-wi-2021.zip’\n",
      "\n",
      "hdma-wi-2021.zip    100%[===================>]  20.50M  38.2MB/s    in 0.5s    \n",
      "\n",
      "2023-03-29 23:16:40 (38.2 MB/s) - ‘hdma-wi-2021.zip’ saved [21494278/21494278]\n",
      "\n",
      "--2023-03-29 23:16:40--  https://pages.cs.wisc.edu/~harter/cs639/data/arid2017_to_lei_xref_csv.zip\n",
      "Resolving pages.cs.wisc.edu (pages.cs.wisc.edu)... 128.105.7.9\n",
      "Connecting to pages.cs.wisc.edu (pages.cs.wisc.edu)|128.105.7.9|:443... connected.\n",
      "HTTP request sent, awaiting response... 200 OK\n",
      "Length: 144804 (141K) [application/zip]\n",
      "Saving to: ‘arid2017_to_lei_xref_csv.zip’\n",
      "\n",
      "arid2017_to_lei_xre 100%[===================>] 141.41K  --.-KB/s    in 0.1s    \n",
      "\n",
      "2023-03-29 23:16:40 (1.24 MB/s) - ‘arid2017_to_lei_xref_csv.zip’ saved [144804/144804]\n",
      "\n",
      "--2023-03-29 23:16:41--  https://pages.cs.wisc.edu/~harter/cs639/data/code_sheets.zip\n",
      "Resolving pages.cs.wisc.edu (pages.cs.wisc.edu)... 128.105.7.9\n",
      "Connecting to pages.cs.wisc.edu (pages.cs.wisc.edu)|128.105.7.9|:443... connected.\n",
      "HTTP request sent, awaiting response... 200 OK\n",
      "Length: 798030 (779K) [application/zip]\n",
      "Saving to: ‘code_sheets.zip’\n",
      "\n",
      "code_sheets.zip     100%[===================>] 779.33K  4.02MB/s    in 0.2s    \n",
      "\n",
      "2023-03-29 23:16:41 (4.02 MB/s) - ‘code_sheets.zip’ saved [798030/798030]\n",
      "\n"
     ]
    }
   ],
   "source": [
    "# Downloading csv files\n",
    "! wget https://pages.cs.wisc.edu/~harter/cs639/data/hdma-wi-2021.zip\n",
    "! wget https://pages.cs.wisc.edu/~harter/cs639/data/arid2017_to_lei_xref_csv.zip\n",
    "! wget https://pages.cs.wisc.edu/~harter/cs639/data/code_sheets.zip"
   ]
  },
  {
   "cell_type": "code",
   "execution_count": 3,
   "id": "5d545f3a-3c1c-46a7-9790-faf2bf45e9ac",
   "metadata": {},
   "outputs": [
    {
     "name": "stdout",
     "output_type": "stream",
     "text": [
      "Archive:  hdma-wi-2021.zip\n",
      "  inflating: hdma-wi-2021.csv        \n",
      "Archive:  arid2017_to_lei_xref_csv.zip\n",
      "  inflating: arid2017_to_lei_xref_csv.csv  \n",
      "Archive:  code_sheets.zip\n",
      "  inflating: code_sheets/action_taken.csv  \n",
      "  inflating: code_sheets/agency.csv  \n",
      "  inflating: code_sheets/counties.csv  \n",
      "  inflating: code_sheets/denial_reason.csv  \n",
      "  inflating: code_sheets/edit_status.csv  \n",
      "  inflating: code_sheets/ethnicity.csv  \n",
      "  inflating: code_sheets/hoepa.csv   \n",
      "  inflating: code_sheets/lien_status.csv  \n",
      "  inflating: code_sheets/loan_purpose.csv  \n",
      "  inflating: code_sheets/loan_type.csv  \n",
      "  inflating: code_sheets/msamd.csv   \n",
      "  inflating: code_sheets/owner_occupancy.csv  \n",
      "  inflating: code_sheets/preapproval.csv  \n",
      "  inflating: code_sheets/property_type.csv  \n",
      "  inflating: code_sheets/purchaser_type.csv  \n",
      "  inflating: code_sheets/race.csv    \n",
      "  inflating: code_sheets/sex.csv     \n",
      "  inflating: code_sheets/states.csv  \n",
      "  inflating: code_sheets/tracts.csv  \n"
     ]
    }
   ],
   "source": [
    "# Unzipping zip files\n",
    "! unzip hdma-wi-2021.zip\n",
    "! unzip arid2017_to_lei_xref_csv.zip\n",
    "! mkdir code_sheets\n",
    "! unzip code_sheets.zip -d code_sheets"
   ]
  },
  {
   "cell_type": "code",
   "execution_count": 2,
   "id": "afa8348d-6454-4789-9a69-7ba12ee40b4b",
   "metadata": {},
   "outputs": [],
   "source": [
    "# Uploading csv files to HDFS\n",
    "! hdfs dfs -cp hdma-wi-2021.csv hdfs://main:9000/hdma-wi-2021.csv\n",
    "! hdfs dfs -cp arid2017_to_lei_xref_csv.csv hdfs://main:9000/arid2017_to_lei_xref_csv.csv\n",
    "! hdfs dfs -cp code_sheets/* hdfs://main:9000/"
   ]
  },
  {
   "cell_type": "code",
   "execution_count": 4,
   "id": "6bd254a7-eb15-4f31-a790-872bcd752e6f",
   "metadata": {},
   "outputs": [
    {
     "name": "stderr",
     "output_type": "stream",
     "text": [
      "                                                                                \r"
     ]
    }
   ],
   "source": [
    "# Loading data into Spark\n",
    "import os\n",
    "\n",
    "(spark.read.csv(f\"hdfs://main:9000/hdma-wi-2021.csv\", header=True, inferSchema=True)\n",
    " .write.bucketBy(8, \"county_code\")\n",
    " .saveAsTable(\"loans\", mode=\"overwrite\"))\n",
    "\n",
    "(spark.read.csv(f\"hdfs://main:9000/arid2017_to_lei_xref_csv.csv\", header=True, inferSchema=True)\n",
    " .write\n",
    " .saveAsTable(\"banks\", mode=\"overwrite\"))\n",
    "\n",
    "for file in os.scandir(\"code_sheets/\"):\n",
    "    if \"csv\" in file.name:\n",
    "        name = file.name\n",
    "        split_name = file.name.split(\".\")[0]\n",
    "        (spark.read.format(\"csv\")\n",
    "         .option(\"header\", True)\n",
    "         .option(\"inferSchema\", True)\n",
    "         .load(\"hdfs://main:9000/{}\".format(name))\n",
    "         .createOrReplaceTempView(\"{}\".format(split_name)))"
   ]
  },
  {
   "cell_type": "markdown",
   "id": "9bfa3b28-daf8-49d4-8bd8-2d6773208a00",
   "metadata": {},
   "source": [
    "## Q1: what tables are in our warehouse?"
   ]
  },
  {
   "cell_type": "code",
   "execution_count": 5,
   "id": "7f0251f5-0d2c-4d20-a45c-9928654c8cd5",
   "metadata": {},
   "outputs": [
    {
     "name": "stdout",
     "output_type": "stream",
     "text": [
      "+---------+-------------+-----------+\n",
      "|namespace|    tableName|isTemporary|\n",
      "+---------+-------------+-----------+\n",
      "|  default|        banks|      false|\n",
      "|  default|        loans|      false|\n",
      "|         | action_taken|       true|\n",
      "|         |     counties|       true|\n",
      "|         |denial_reason|       true|\n",
      "|         |    ethnicity|       true|\n",
      "|         | loan_purpose|       true|\n",
      "|         |    loan_type|       true|\n",
      "|         |  preapproval|       true|\n",
      "|         |property_type|       true|\n",
      "|         |         race|       true|\n",
      "|         |          sex|       true|\n",
      "|         |       states|       true|\n",
      "|         |       tracts|       true|\n",
      "+---------+-------------+-----------+\n",
      "\n"
     ]
    }
   ],
   "source": [
    "spark.sql(\"SHOW TABLES\").show()"
   ]
  },
  {
   "cell_type": "markdown",
   "id": "d0a29562-53c9-4b5e-8175-b1ff05b042e8",
   "metadata": {},
   "source": [
    "# Part 2: Filter and Join"
   ]
  },
  {
   "cell_type": "markdown",
   "id": "520ed944-3a10-43f1-926b-c18cb06b4a37",
   "metadata": {},
   "source": [
    "## Q2: how many banks contain the word \"first\" in their name? Which ones contain \"second\"?"
   ]
  },
  {
   "cell_type": "code",
   "execution_count": 6,
   "id": "3720b56d-cc4b-434c-a609-da516547df47",
   "metadata": {},
   "outputs": [
    {
     "name": "stderr",
     "output_type": "stream",
     "text": [
      "                                                                                \r"
     ]
    },
    {
     "name": "stdout",
     "output_type": "stream",
     "text": [
      "   first_count\n",
      "0          525\n"
     ]
    },
    {
     "name": "stderr",
     "output_type": "stream",
     "text": [
      "                                                                                \r"
     ]
    },
    {
     "data": {
      "text/html": [
       "<div>\n",
       "<style scoped>\n",
       "    .dataframe tbody tr th:only-of-type {\n",
       "        vertical-align: middle;\n",
       "    }\n",
       "\n",
       "    .dataframe tbody tr th {\n",
       "        vertical-align: top;\n",
       "    }\n",
       "\n",
       "    .dataframe thead th {\n",
       "        text-align: right;\n",
       "    }\n",
       "</style>\n",
       "<table border=\"1\" class=\"dataframe\">\n",
       "  <thead>\n",
       "    <tr style=\"text-align: right;\">\n",
       "      <th></th>\n",
       "      <th>respondent_name</th>\n",
       "      <th>arid_2017</th>\n",
       "      <th>lei_2018</th>\n",
       "      <th>lei_2019</th>\n",
       "      <th>lei_2020</th>\n",
       "    </tr>\n",
       "  </thead>\n",
       "  <tbody>\n",
       "    <tr>\n",
       "      <th>0</th>\n",
       "      <td>Old Second National Bank</td>\n",
       "      <td>14596</td>\n",
       "      <td>B94HV8SXGDD3J5XESU08</td>\n",
       "      <td>B94HV8SXGDD3J5XESU08</td>\n",
       "      <td>B94HV8SXGDD3J5XESU08</td>\n",
       "    </tr>\n",
       "  </tbody>\n",
       "</table>\n",
       "</div>"
      ],
      "text/plain": [
       "            respondent_name arid_2017              lei_2018  \\\n",
       "0  Old Second National Bank     14596  B94HV8SXGDD3J5XESU08   \n",
       "\n",
       "               lei_2019              lei_2020  \n",
       "0  B94HV8SXGDD3J5XESU08  B94HV8SXGDD3J5XESU08  "
      ]
     },
     "execution_count": 6,
     "metadata": {},
     "output_type": "execute_result"
    }
   ],
   "source": [
    "first = spark.sql(\"\"\"\n",
    "SELECT COUNT(*) as first_count\n",
    "FROM banks\n",
    "WHERE LOWER(respondent_name) LIKE '%first%'\n",
    "\"\"\").toPandas()\n",
    "\n",
    "print(first)\n",
    "spark.sql(\"\"\"\n",
    "SELECT *\n",
    "FROM banks\n",
    "WHERE LOWER(respondent_name) LIKE '%second%'\n",
    "\"\"\").toPandas()"
   ]
  },
  {
   "cell_type": "markdown",
   "id": "19edc365-19a3-4ff6-a510-efe57f7dd89b",
   "metadata": {},
   "source": [
    "## Q3: how many loan applications has your \"favorite\" bank received in the dataset?"
   ]
  },
  {
   "cell_type": "code",
   "execution_count": 7,
   "id": "09d0e816-63c4-4c75-8a2f-0369518f3ca0",
   "metadata": {},
   "outputs": [
    {
     "name": "stderr",
     "output_type": "stream",
     "text": [
      "                                                                                \r"
     ]
    },
    {
     "data": {
      "text/html": [
       "<div>\n",
       "<style scoped>\n",
       "    .dataframe tbody tr th:only-of-type {\n",
       "        vertical-align: middle;\n",
       "    }\n",
       "\n",
       "    .dataframe tbody tr th {\n",
       "        vertical-align: top;\n",
       "    }\n",
       "\n",
       "    .dataframe thead th {\n",
       "        text-align: right;\n",
       "    }\n",
       "</style>\n",
       "<table border=\"1\" class=\"dataframe\">\n",
       "  <thead>\n",
       "    <tr style=\"text-align: right;\">\n",
       "      <th></th>\n",
       "      <th>count(1)</th>\n",
       "    </tr>\n",
       "  </thead>\n",
       "  <tbody>\n",
       "    <tr>\n",
       "      <th>0</th>\n",
       "      <td>934</td>\n",
       "    </tr>\n",
       "  </tbody>\n",
       "</table>\n",
       "</div>"
      ],
      "text/plain": [
       "   count(1)\n",
       "0       934"
      ]
     },
     "execution_count": 7,
     "metadata": {},
     "output_type": "execute_result"
    }
   ],
   "source": [
    "results = spark.sql(\"\"\"\n",
    "SELECT COUNT(*)\n",
    "FROM banks\n",
    "INNER JOIN loans\n",
    "ON banks.lei_2018 = loans.lei\n",
    "WHERE respondent_name = 'Bank of America, National Association'\n",
    "\"\"\")\n",
    "results.toPandas()"
   ]
  },
  {
   "cell_type": "markdown",
   "id": "bb8d4ba6-48b7-4425-a21d-15b09c8772ba",
   "metadata": {},
   "source": [
    "## Q4: what does results.explain(\"formatted\") tell us about Spark's query plan for Q3?"
   ]
  },
  {
   "cell_type": "code",
   "execution_count": 7,
   "id": "d09fb2b8-6109-4d57-a9d9-2da5e9580d0f",
   "metadata": {},
   "outputs": [
    {
     "name": "stdout",
     "output_type": "stream",
     "text": [
      "== Physical Plan ==\n",
      "AdaptiveSparkPlan (25)\n",
      "+- == Final Plan ==\n",
      "   * HashAggregate (15)\n",
      "   +- ShuffleQueryStage (14)\n",
      "      +- Exchange (13)\n",
      "         +- * HashAggregate (12)\n",
      "            +- * Project (11)\n",
      "               +- * BroadcastHashJoin Inner BuildLeft (10)\n",
      "                  :- BroadcastQueryStage (6)\n",
      "                  :  +- BroadcastExchange (5)\n",
      "                  :     +- * Project (4)\n",
      "                  :        +- * Filter (3)\n",
      "                  :           +- * ColumnarToRow (2)\n",
      "                  :              +- Scan parquet default.banks (1)\n",
      "                  +- * Filter (9)\n",
      "                     +- * ColumnarToRow (8)\n",
      "                        +- Scan parquet default.loans (7)\n",
      "+- == Initial Plan ==\n",
      "   HashAggregate (24)\n",
      "   +- Exchange (23)\n",
      "      +- HashAggregate (22)\n",
      "         +- Project (21)\n",
      "            +- BroadcastHashJoin Inner BuildLeft (20)\n",
      "               :- BroadcastExchange (18)\n",
      "               :  +- Project (17)\n",
      "               :     +- Filter (16)\n",
      "               :        +- Scan parquet default.banks (1)\n",
      "               +- Filter (19)\n",
      "                  +- Scan parquet default.loans (7)\n",
      "\n",
      "\n",
      "(1) Scan parquet default.banks\n",
      "Output [2]: [respondent_name#949, lei_2018#951]\n",
      "Batched: true\n",
      "Location: InMemoryFileIndex [hdfs://main:9000/user/hive/warehouse/banks]\n",
      "PushedFilters: [IsNotNull(respondent_name), EqualTo(respondent_name,Bank of America, National Association), IsNotNull(lei_2018)]\n",
      "ReadSchema: struct<respondent_name:string,lei_2018:string>\n",
      "\n",
      "(2) ColumnarToRow [codegen id : 1]\n",
      "Input [2]: [respondent_name#949, lei_2018#951]\n",
      "\n",
      "(3) Filter [codegen id : 1]\n",
      "Input [2]: [respondent_name#949, lei_2018#951]\n",
      "Condition : ((isnotnull(respondent_name#949) AND (respondent_name#949 = Bank of America, National Association)) AND isnotnull(lei_2018#951))\n",
      "\n",
      "(4) Project [codegen id : 1]\n",
      "Output [1]: [lei_2018#951]\n",
      "Input [2]: [respondent_name#949, lei_2018#951]\n",
      "\n",
      "(5) BroadcastExchange\n",
      "Input [1]: [lei_2018#951]\n",
      "Arguments: HashedRelationBroadcastMode(List(input[0, string, true]),false), [plan_id=464]\n",
      "\n",
      "(6) BroadcastQueryStage\n",
      "Output [1]: [lei_2018#951]\n",
      "Arguments: 0\n",
      "\n",
      "(7) Scan parquet default.loans\n",
      "Output [1]: [lei#964]\n",
      "Batched: true\n",
      "Location: InMemoryFileIndex [hdfs://main:9000/user/hive/warehouse/loans]\n",
      "PushedFilters: [IsNotNull(lei)]\n",
      "ReadSchema: struct<lei:string>\n",
      "\n",
      "(8) ColumnarToRow\n",
      "Input [1]: [lei#964]\n",
      "\n",
      "(9) Filter\n",
      "Input [1]: [lei#964]\n",
      "Condition : isnotnull(lei#964)\n",
      "\n",
      "(10) BroadcastHashJoin [codegen id : 2]\n",
      "Left keys [1]: [lei_2018#951]\n",
      "Right keys [1]: [lei#964]\n",
      "Join condition: None\n",
      "\n",
      "(11) Project [codegen id : 2]\n",
      "Output: []\n",
      "Input [2]: [lei_2018#951, lei#964]\n",
      "\n",
      "(12) HashAggregate [codegen id : 2]\n",
      "Input: []\n",
      "Keys: []\n",
      "Functions [1]: [partial_count(1)]\n",
      "Aggregate Attributes [1]: [count#1064L]\n",
      "Results [1]: [count#1065L]\n",
      "\n",
      "(13) Exchange\n",
      "Input [1]: [count#1065L]\n",
      "Arguments: SinglePartition, ENSURE_REQUIREMENTS, [plan_id=522]\n",
      "\n",
      "(14) ShuffleQueryStage\n",
      "Output [1]: [count#1065L]\n",
      "Arguments: 1\n",
      "\n",
      "(15) HashAggregate [codegen id : 3]\n",
      "Input [1]: [count#1065L]\n",
      "Keys: []\n",
      "Functions [1]: [count(1)]\n",
      "Aggregate Attributes [1]: [count(1)#962L]\n",
      "Results [1]: [count(1)#962L AS count(1)#1062L]\n",
      "\n",
      "(16) Filter\n",
      "Input [2]: [respondent_name#949, lei_2018#951]\n",
      "Condition : ((isnotnull(respondent_name#949) AND (respondent_name#949 = Bank of America, National Association)) AND isnotnull(lei_2018#951))\n",
      "\n",
      "(17) Project\n",
      "Output [1]: [lei_2018#951]\n",
      "Input [2]: [respondent_name#949, lei_2018#951]\n",
      "\n",
      "(18) BroadcastExchange\n",
      "Input [1]: [lei_2018#951]\n",
      "Arguments: HashedRelationBroadcastMode(List(input[0, string, true]),false), [plan_id=433]\n",
      "\n",
      "(19) Filter\n",
      "Input [1]: [lei#964]\n",
      "Condition : isnotnull(lei#964)\n",
      "\n",
      "(20) BroadcastHashJoin\n",
      "Left keys [1]: [lei_2018#951]\n",
      "Right keys [1]: [lei#964]\n",
      "Join condition: None\n",
      "\n",
      "(21) Project\n",
      "Output: []\n",
      "Input [2]: [lei_2018#951, lei#964]\n",
      "\n",
      "(22) HashAggregate\n",
      "Input: []\n",
      "Keys: []\n",
      "Functions [1]: [partial_count(1)]\n",
      "Aggregate Attributes [1]: [count#1064L]\n",
      "Results [1]: [count#1065L]\n",
      "\n",
      "(23) Exchange\n",
      "Input [1]: [count#1065L]\n",
      "Arguments: SinglePartition, ENSURE_REQUIREMENTS, [plan_id=438]\n",
      "\n",
      "(24) HashAggregate\n",
      "Input [1]: [count#1065L]\n",
      "Keys: []\n",
      "Functions [1]: [count(1)]\n",
      "Aggregate Attributes [1]: [count(1)#962L]\n",
      "Results [1]: [count(1)#962L AS count(1)#1062L]\n",
      "\n",
      "(25) AdaptiveSparkPlan\n",
      "Output [1]: [count(1)#1062L]\n",
      "Arguments: isFinalPlan=true\n",
      "\n",
      "\n"
     ]
    }
   ],
   "source": [
    "results.explain(\"formatted\")\n",
    "\n",
    "# 1. The loans table is sent to every executor via a BroadcastExchange Operation\n",
    "# 2. \"is not null\" filtering is added by the optimizer to the banks and loans tables.\n",
    "# 3. Yes, the plan involves HashAggregate(s). There are two partial_count(s) and two regular counts."
   ]
  },
  {
   "cell_type": "markdown",
   "id": "154ebc8d-e3bc-4c4b-a67e-b901c46fd841",
   "metadata": {},
   "source": [
    "## Q5: what are the top 10 biggest loans (in terms of loan_amount) that were approved by your favorite bank?"
   ]
  },
  {
   "cell_type": "code",
   "execution_count": 8,
   "id": "b7fee87a-b798-4a0c-a5ed-b52416f0d4f9",
   "metadata": {},
   "outputs": [
    {
     "name": "stderr",
     "output_type": "stream",
     "text": [
      "                                                                                \r"
     ]
    },
    {
     "data": {
      "text/html": [
       "<div>\n",
       "<style scoped>\n",
       "    .dataframe tbody tr th:only-of-type {\n",
       "        vertical-align: middle;\n",
       "    }\n",
       "\n",
       "    .dataframe tbody tr th {\n",
       "        vertical-align: top;\n",
       "    }\n",
       "\n",
       "    .dataframe thead th {\n",
       "        text-align: right;\n",
       "    }\n",
       "</style>\n",
       "<table border=\"1\" class=\"dataframe\">\n",
       "  <thead>\n",
       "    <tr style=\"text-align: right;\">\n",
       "      <th></th>\n",
       "      <th>census_tract</th>\n",
       "      <th>county</th>\n",
       "      <th>loan_purpose</th>\n",
       "      <th>derived_dwelling_category</th>\n",
       "      <th>thousands</th>\n",
       "      <th>interest_rate</th>\n",
       "      <th>years</th>\n",
       "      <th>action_taken</th>\n",
       "    </tr>\n",
       "  </thead>\n",
       "  <tbody>\n",
       "    <tr>\n",
       "      <th>0</th>\n",
       "      <td>55133204100</td>\n",
       "      <td>Waukesha</td>\n",
       "      <td>None</td>\n",
       "      <td>Single Family (1-4 Units):Site-Built</td>\n",
       "      <td>4005.0</td>\n",
       "      <td>2.375</td>\n",
       "      <td>15.0</td>\n",
       "      <td>Loan originated</td>\n",
       "    </tr>\n",
       "    <tr>\n",
       "      <th>1</th>\n",
       "      <td>55047100400</td>\n",
       "      <td>Green Lake</td>\n",
       "      <td>None</td>\n",
       "      <td>Single Family (1-4 Units):Site-Built</td>\n",
       "      <td>2135.0</td>\n",
       "      <td>2.125</td>\n",
       "      <td>30.0</td>\n",
       "      <td>Loan originated</td>\n",
       "    </tr>\n",
       "    <tr>\n",
       "      <th>2</th>\n",
       "      <td>55127001602</td>\n",
       "      <td>Walworth</td>\n",
       "      <td>None</td>\n",
       "      <td>Single Family (1-4 Units):Site-Built</td>\n",
       "      <td>2005.0</td>\n",
       "      <td>2.375</td>\n",
       "      <td>30.0</td>\n",
       "      <td>Loan originated</td>\n",
       "    </tr>\n",
       "    <tr>\n",
       "      <th>3</th>\n",
       "      <td>55025001804</td>\n",
       "      <td>Dane</td>\n",
       "      <td>Home purchase</td>\n",
       "      <td>Single Family (1-4 Units):Site-Built</td>\n",
       "      <td>1565.0</td>\n",
       "      <td>1.875</td>\n",
       "      <td>30.0</td>\n",
       "      <td>Loan originated</td>\n",
       "    </tr>\n",
       "    <tr>\n",
       "      <th>4</th>\n",
       "      <td>55127000302</td>\n",
       "      <td>Walworth</td>\n",
       "      <td>None</td>\n",
       "      <td>Single Family (1-4 Units):Site-Built</td>\n",
       "      <td>1505.0</td>\n",
       "      <td>2.125</td>\n",
       "      <td>15.0</td>\n",
       "      <td>Loan originated</td>\n",
       "    </tr>\n",
       "    <tr>\n",
       "      <th>5</th>\n",
       "      <td>55127000302</td>\n",
       "      <td>Walworth</td>\n",
       "      <td>Home purchase</td>\n",
       "      <td>Single Family (1-4 Units):Site-Built</td>\n",
       "      <td>1445.0</td>\n",
       "      <td>2.375</td>\n",
       "      <td>30.0</td>\n",
       "      <td>Loan originated</td>\n",
       "    </tr>\n",
       "    <tr>\n",
       "      <th>6</th>\n",
       "      <td>55127001604</td>\n",
       "      <td>Walworth</td>\n",
       "      <td>None</td>\n",
       "      <td>Single Family (1-4 Units):Site-Built</td>\n",
       "      <td>1335.0</td>\n",
       "      <td>2.25</td>\n",
       "      <td>30.0</td>\n",
       "      <td>Loan originated</td>\n",
       "    </tr>\n",
       "    <tr>\n",
       "      <th>7</th>\n",
       "      <td>55127000800</td>\n",
       "      <td>Walworth</td>\n",
       "      <td>None</td>\n",
       "      <td>Single Family (1-4 Units):Site-Built</td>\n",
       "      <td>1305.0</td>\n",
       "      <td>2.75</td>\n",
       "      <td>15.0</td>\n",
       "      <td>Loan originated</td>\n",
       "    </tr>\n",
       "    <tr>\n",
       "      <th>8</th>\n",
       "      <td>55009021301</td>\n",
       "      <td>Brown</td>\n",
       "      <td>None</td>\n",
       "      <td>Single Family (1-4 Units):Site-Built</td>\n",
       "      <td>1215.0</td>\n",
       "      <td>2.125</td>\n",
       "      <td>30.0</td>\n",
       "      <td>Loan originated</td>\n",
       "    </tr>\n",
       "    <tr>\n",
       "      <th>9</th>\n",
       "      <td>55101002402</td>\n",
       "      <td>Racine</td>\n",
       "      <td>None</td>\n",
       "      <td>Single Family (1-4 Units):Site-Built</td>\n",
       "      <td>1105.0</td>\n",
       "      <td>2.0</td>\n",
       "      <td>30.0</td>\n",
       "      <td>Loan originated</td>\n",
       "    </tr>\n",
       "  </tbody>\n",
       "</table>\n",
       "</div>"
      ],
      "text/plain": [
       "  census_tract      county   loan_purpose  \\\n",
       "0  55133204100    Waukesha           None   \n",
       "1  55047100400  Green Lake           None   \n",
       "2  55127001602    Walworth           None   \n",
       "3  55025001804        Dane  Home purchase   \n",
       "4  55127000302    Walworth           None   \n",
       "5  55127000302    Walworth  Home purchase   \n",
       "6  55127001604    Walworth           None   \n",
       "7  55127000800    Walworth           None   \n",
       "8  55009021301       Brown           None   \n",
       "9  55101002402      Racine           None   \n",
       "\n",
       "              derived_dwelling_category  thousands interest_rate  years  \\\n",
       "0  Single Family (1-4 Units):Site-Built     4005.0         2.375   15.0   \n",
       "1  Single Family (1-4 Units):Site-Built     2135.0         2.125   30.0   \n",
       "2  Single Family (1-4 Units):Site-Built     2005.0         2.375   30.0   \n",
       "3  Single Family (1-4 Units):Site-Built     1565.0         1.875   30.0   \n",
       "4  Single Family (1-4 Units):Site-Built     1505.0         2.125   15.0   \n",
       "5  Single Family (1-4 Units):Site-Built     1445.0         2.375   30.0   \n",
       "6  Single Family (1-4 Units):Site-Built     1335.0          2.25   30.0   \n",
       "7  Single Family (1-4 Units):Site-Built     1305.0          2.75   15.0   \n",
       "8  Single Family (1-4 Units):Site-Built     1215.0         2.125   30.0   \n",
       "9  Single Family (1-4 Units):Site-Built     1105.0           2.0   30.0   \n",
       "\n",
       "      action_taken  \n",
       "0  Loan originated  \n",
       "1  Loan originated  \n",
       "2  Loan originated  \n",
       "3  Loan originated  \n",
       "4  Loan originated  \n",
       "5  Loan originated  \n",
       "6  Loan originated  \n",
       "7  Loan originated  \n",
       "8  Loan originated  \n",
       "9  Loan originated  "
      ]
     },
     "execution_count": 8,
     "metadata": {},
     "output_type": "execute_result"
    }
   ],
   "source": [
    "spark.sql(\"\"\"\n",
    "SELECT census_tract, counties.name as county, purpose.loan_purpose, derived_dwelling_category, (loan_amount /1000) as thousands, interest_rate, (loan_term / 12) as years, actions.action_taken\n",
    "FROM\n",
    "(\n",
    "    SELECT SUBSTRING(county_code, 1, 2) as state, SUBSTRING(county_code, 3, LENGTH(county_code)) as county, *\n",
    "    FROM banks\n",
    "    INNER JOIN loans\n",
    "    ON banks.lei_2018 = loans.lei\n",
    "    WHERE respondent_name = 'Bank of America, National Association'\n",
    ") as boa\n",
    "INNER JOIN action_taken as actions\n",
    "ON boa.action_taken = actions.id\n",
    "INNER JOIN counties\n",
    "ON boa.state = counties.state\n",
    "AND boa.county = counties.county\n",
    "LEFT JOIN loan_purpose as purpose\n",
    "ON boa.loan_purpose = purpose.id \n",
    "WHERE actions.action_taken = 'Loan originated'\n",
    "ORDER BY boa.loan_amount DESC\n",
    "LIMIT 10\n",
    "\"\"\").toPandas() "
   ]
  },
  {
   "cell_type": "markdown",
   "id": "173cbe13-6c9d-4db4-abb5-0c9e26c55422",
   "metadata": {},
   "source": [
    "# Part 3: GROUPY BY and Windowing"
   ]
  },
  {
   "cell_type": "markdown",
   "id": "32554648-7d92-4b5c-81b1-2d5aac818a1c",
   "metadata": {},
   "source": [
    "## Q6: when computing a MEAN aggregate per group of loans, when do we require network I/O between the partial_mean and mean operations?"
   ]
  },
  {
   "cell_type": "code",
   "execution_count": 9,
   "id": "570be1bb-7f29-42b1-a277-4e270c649e0a",
   "metadata": {},
   "outputs": [
    {
     "name": "stdout",
     "output_type": "stream",
     "text": [
      "== Physical Plan ==\n",
      "AdaptiveSparkPlan (4)\n",
      "+- HashAggregate (3)\n",
      "   +- HashAggregate (2)\n",
      "      +- Scan parquet default.loans (1)\n",
      "\n",
      "\n",
      "(1) Scan parquet default.loans\n",
      "Output [2]: [county_code#967, tract_population#1055]\n",
      "Batched: true\n",
      "Location: InMemoryFileIndex [hdfs://main:9000/user/hive/warehouse/loans]\n",
      "ReadSchema: struct<county_code:string,tract_population:int>\n",
      "SelectedBucketsCount: 8 out of 8\n",
      "\n",
      "(2) HashAggregate\n",
      "Input [2]: [county_code#967, tract_population#1055]\n",
      "Keys [1]: [county_code#967]\n",
      "Functions [1]: [partial_avg(tract_population#1055)]\n",
      "Aggregate Attributes [2]: [sum#1199, count#1200L]\n",
      "Results [3]: [county_code#967, sum#1201, count#1202L]\n",
      "\n",
      "(3) HashAggregate\n",
      "Input [3]: [county_code#967, sum#1201, count#1202L]\n",
      "Keys [1]: [county_code#967]\n",
      "Functions [1]: [avg(tract_population#1055)]\n",
      "Aggregate Attributes [1]: [avg(tract_population#1055)#1191]\n",
      "Results [2]: [avg(tract_population#1055)#1191 AS avg(tract_population)#1192, county_code#967]\n",
      "\n",
      "(4) AdaptiveSparkPlan\n",
      "Output [2]: [avg(tract_population)#1192, county_code#967]\n",
      "Arguments: isFinalPlan=false\n",
      "\n",
      "\n",
      "== Physical Plan ==\n",
      "AdaptiveSparkPlan (5)\n",
      "+- HashAggregate (4)\n",
      "   +- Exchange (3)\n",
      "      +- HashAggregate (2)\n",
      "         +- Scan parquet default.loans (1)\n",
      "\n",
      "\n",
      "(1) Scan parquet default.loans\n",
      "Output [2]: [lei#964, tract_population#1055]\n",
      "Batched: true\n",
      "Location: InMemoryFileIndex [hdfs://main:9000/user/hive/warehouse/loans]\n",
      "ReadSchema: struct<lei:string,tract_population:int>\n",
      "\n",
      "(2) HashAggregate\n",
      "Input [2]: [lei#964, tract_population#1055]\n",
      "Keys [1]: [lei#964]\n",
      "Functions [1]: [partial_avg(tract_population#1055)]\n",
      "Aggregate Attributes [2]: [sum#1203, count#1204L]\n",
      "Results [3]: [lei#964, sum#1205, count#1206L]\n",
      "\n",
      "(3) Exchange\n",
      "Input [3]: [lei#964, sum#1205, count#1206L]\n",
      "Arguments: hashpartitioning(lei#964, 200), ENSURE_REQUIREMENTS, [plan_id=1146]\n",
      "\n",
      "(4) HashAggregate\n",
      "Input [3]: [lei#964, sum#1205, count#1206L]\n",
      "Keys [1]: [lei#964]\n",
      "Functions [1]: [avg(tract_population#1055)]\n",
      "Aggregate Attributes [1]: [avg(tract_population#1055)#1195]\n",
      "Results [2]: [avg(tract_population#1055)#1195 AS avg(tract_population)#1196, lei#964]\n",
      "\n",
      "(5) AdaptiveSparkPlan\n",
      "Output [2]: [avg(tract_population)#1196, lei#964]\n",
      "Arguments: isFinalPlan=false\n",
      "\n",
      "\n"
     ]
    }
   ],
   "source": [
    "res1 = spark.sql(\"\"\"\n",
    "SELECT AVG(tract_population), county_code\n",
    "FROM loans\n",
    "GROUP BY county_code\n",
    "\"\"\")\n",
    "\n",
    "res2 = spark.sql(\"\"\"\n",
    "SELECT AVG(tract_population), lei\n",
    "FROM loans\n",
    "GROUP BY lei\n",
    "\"\"\")\n",
    "\n",
    "res1.explain(\"formatted\")\n",
    "res2.explain(\"formatted\")\n",
    "\n",
    "# A network transfer is unnecessary for the first query and necessary for the second query because when we loaded the loans table earlier, \n",
    "# we bucketed by the county_code column. Thus, when we grouped by the county_code, a network transfer is unnecessary because\n",
    "# the data is pre-partitioned. "
   ]
  },
  {
   "cell_type": "markdown",
   "id": "9719413c-d9de-4031-8f14-ba0f15da3808",
   "metadata": {},
   "source": [
    "## Q7: what are the average interest rates for Wells Fargo applications for the ten counties where Wells Fargo receives the most applications?"
   ]
  },
  {
   "cell_type": "code",
   "execution_count": 9,
   "id": "a967caeb-490e-48e7-bcf1-125e18a176ff",
   "metadata": {},
   "outputs": [
    {
     "name": "stderr",
     "output_type": "stream",
     "text": [
      "                                                                                \r"
     ]
    },
    {
     "data": {
      "text/plain": [
       "<Axes: xlabel='name', ylabel='Average Interest Rate'>"
      ]
     },
     "execution_count": 9,
     "metadata": {},
     "output_type": "execute_result"
    },
    {
     "data": {
      "image/png": "[encoded data removed]",
      "text/plain": [
       "<Figure size 640x480 with 1 Axes>"
      ]
     },
     "metadata": {},
     "output_type": "display_data"
    }
   ],
   "source": [
    "avg_df = spark.sql(\"\"\"\n",
    "SELECT counties.name, AVG(wells.interest_rate) as avg_interest_rate, COUNT(*) as count\n",
    "FROM\n",
    "(\n",
    "    SELECT SUBSTRING(county_code, 1, 2) as state, SUBSTRING(county_code, 3, LENGTH(county_code)) as county, loans.interest_rate\n",
    "    FROM banks\n",
    "    INNER JOIN loans\n",
    "    ON banks.lei_2018 = loans.lei\n",
    "    WHERE respondent_name = 'Wells Fargo Bank, National Association'\n",
    ") as wells\n",
    "INNER JOIN counties\n",
    "ON wells.state = counties.state\n",
    "AND wells.county = counties.county\n",
    "GROUP BY counties.name\n",
    "ORDER BY count DESC\n",
    "LIMIT 10\n",
    "\"\"\").toPandas()\n",
    "avg_df.plot.bar(x='name', y='avg_interest_rate', legend=False, ylabel=\"Average Interest Rate\")"
   ]
  },
  {
   "cell_type": "markdown",
   "id": "00a626a3-2dce-401e-b62e-8f4d76ab440d",
   "metadata": {},
   "source": [
    "## Q8: what is the second biggest loan application amount in each county? (answer for top 10 counties)."
   ]
  },
  {
   "cell_type": "code",
   "execution_count": 11,
   "id": "ce7caac3-1b80-4980-bef3-a4d03c32fec4",
   "metadata": {},
   "outputs": [
    {
     "name": "stderr",
     "output_type": "stream",
     "text": [
      "                                                                                \r"
     ]
    },
    {
     "data": {
      "text/plain": [
       "<Axes: xlabel='name', ylabel='2nd Biggest Loan Application (Millions $)'>"
      ]
     },
     "execution_count": 11,
     "metadata": {},
     "output_type": "execute_result"
    },
    {
     "data": {
      "image/png": "[encoded data removed]",
      "text/plain": [
       "<Figure size 640x480 with 1 Axes>"
      ]
     },
     "metadata": {},
     "output_type": "display_data"
    }
   ],
   "source": [
    "df = spark.sql(\"\"\"\n",
    "SELECT counties.name, loan_amount\n",
    "FROM\n",
    "(\n",
    "    SELECT SUBSTRING(county_code, 1, 2) as state, SUBSTRING(county_code, 3, LENGTH(county_code)) as county, loans.loan_amount\n",
    "    FROM loans\n",
    ") as new_loans\n",
    "INNER JOIN counties\n",
    "ON new_loans.state = counties.state\n",
    "AND new_loans.county = counties.county\n",
    "GROUP BY counties.name, loan_amount\n",
    "\"\"\")\n",
    "df.createOrReplaceTempView(\"df\")\n",
    "\n",
    "second_biggest = spark.sql(\"\"\"\n",
    "SELECT *, row_number() OVER (PARTITION BY name ORDER BY loan_amount DESC) AS num\n",
    "FROM df\n",
    "ORDER BY loan_amount DESC\n",
    "\"\"\").where(\"num = 2\").limit(10).toPandas()\n",
    "\n",
    "second_biggest.plot.bar(x='name', y='loan_amount', ylabel=\"2nd Biggest Loan Application (Millions $)\", legend=False)"
   ]
  },
  {
   "cell_type": "markdown",
   "id": "0f51b795-e5ae-48c5-b84e-4434f1707387",
   "metadata": {},
   "source": [
    "# Part 4: Caching"
   ]
  },
  {
   "cell_type": "markdown",
   "id": "4f0bef00-7976-4729-91d5-eb8e80229eee",
   "metadata": {},
   "source": [
    "## Q9: what is the cost of caching and the impact on subsequent queries?"
   ]
  },
  {
   "cell_type": "code",
   "execution_count": 24,
   "id": "1809dde5-b7e1-4e85-a296-6d1e23dc8f31",
   "metadata": {},
   "outputs": [
    {
     "name": "stderr",
     "output_type": "stream",
     "text": [
      "                                                                                \r"
     ]
    },
    {
     "data": {
      "image/png": "[encoded data removed]",
      "text/plain": [
       "<Figure size 640x480 with 1 Axes>"
      ]
     },
     "metadata": {},
     "output_type": "display_data"
    }
   ],
   "source": [
    "import time\n",
    "from matplotlib import pyplot as plt\n",
    "\n",
    "latencies = []\n",
    "\n",
    "df1 = spark.sql(\"\"\"\n",
    "SELECT interest_rate\n",
    "FROM banks\n",
    "INNER JOIN loans\n",
    "ON banks.lei_2020 = loans.lei \n",
    "WHERE banks.respondent_name = 'Wells Fargo Bank, National Association'\n",
    "\"\"\")\n",
    "\n",
    "for i in range(10):\n",
    "    if i == 5:\n",
    "        df1.cache()\n",
    "    start = time.time()\n",
    "    df1.count()\n",
    "    end = time.time()\n",
    "    latency = (end - start) * 1000\n",
    "    latencies.append(latency)\n",
    "\n",
    "no_caching = latencies[:len(latencies) // 2]\n",
    "caching = latencies[len(latencies) // 2:]\n",
    "\n",
    "plt.plot([0, 1, 2, 3, 4], no_caching, label=\"No Caching\")\n",
    "plt.plot([5, 6, 7, 8, 9], caching, label=\"Caching\")\n",
    "plt.xlabel(\"Query Number\")\n",
    "plt.ylabel(\"Milliseconds\")\n",
    "plt.legend()\n",
    "plt.show()"
   ]
  },
  {
   "cell_type": "markdown",
   "id": "5c494918-e559-4c69-a43a-f56154737f91",
   "metadata": {},
   "source": [
    "## Q10: what is the impact of caching a single partition on load balance?"
   ]
  },
  {
   "cell_type": "code",
   "execution_count": 25,
   "id": "ba48bcff-a0d8-4fb6-82d7-7a33bc2e102c",
   "metadata": {},
   "outputs": [
    {
     "name": "stderr",
     "output_type": "stream",
     "text": [
      "23/04/04 04:47:39 WARN CacheManager: Asked to cache already cached data.\n"
     ]
    },
    {
     "data": {
      "image/png": "[encoded data removed]",
      "text/plain": [
       "<Figure size 640x480 with 1 Axes>"
      ]
     },
     "metadata": {},
     "output_type": "display_data"
    }
   ],
   "source": [
    "import requests\n",
    "\n",
    "executor1 = []\n",
    "executor2 = []\n",
    "\n",
    "df1 = df1.repartition(1)\n",
    "df1.cache()\n",
    "\n",
    "for i in range(10):\n",
    "    df1.count()\n",
    "    r = requests.get(\"http://localhost:4040/api/v1/applications\")\n",
    "    r.raise_for_status()\n",
    "    app_id = r.json()[0][\"id\"]\n",
    "    r = requests.get(\"http://localhost:4040/api/v1/applications/{}/executors\".format(app_id))\n",
    "    r.raise_for_status()\n",
    "    totalTasks1 = r.json()[1][\"totalTasks\"]\n",
    "    executor1.append(totalTasks1)\n",
    "    totalTasks2 = r.json()[2][\"totalTasks\"]\n",
    "    executor2.append(totalTasks2)\n",
    "    \n",
    "plt.plot([0, 1, 2, 3, 4, 5, 6, 7, 8, 9], executor1)\n",
    "plt.plot([0, 1, 2, 3, 4, 5, 6, 7, 8, 9], executor2)\n",
    "plt.xlabel(\"Query Number\")\n",
    "plt.ylabel(\"Task Count\")\n",
    "plt.show()"
   ]
  }
 ],
 "metadata": {
  "kernelspec": {
   "display_name": "Python 3 (ipykernel)",
   "language": "python",
   "name": "python3"
  },
  "language_info": {
   "codemirror_mode": {
    "name": "ipython",
    "version": 3
   },
   "file_extension": ".py",
   "mimetype": "text/x-python",
   "name": "python",
   "nbconvert_exporter": "python",
   "pygments_lexer": "ipython3",
   "version": "3.10.6"
  }
 },
 "nbformat": 4,
 "nbformat_minor": 5
}
